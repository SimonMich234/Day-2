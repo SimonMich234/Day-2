{
 "cells": [
  {
   "cell_type": "code",
   "execution_count": 2,
   "id": "ea75009c",
   "metadata": {},
   "outputs": [],
   "source": [
    "import numpy as np\n",
    "import random\n",
    "from scipy import stats\n",
    "from math import sqrt"
   ]
  },
  {
   "cell_type": "code",
   "execution_count": 68,
   "id": "b513268f",
   "metadata": {},
   "outputs": [],
   "source": [
    "def skeww(a):\n",
    "    meana = np.mean(a)\n",
    "    modea = stats.mode(a)\n",
    "    stdeva = stdev(a)\n",
    "    skewness = (meana-modea[0])/stdeva\n",
    "    return skewness"
   ]
  },
  {
   "cell_type": "code",
   "execution_count": 69,
   "id": "e60ae4dd",
   "metadata": {},
   "outputs": [
    {
     "name": "stdout",
     "output_type": "stream",
     "text": [
      "Mean is  4.6923076923076925\n",
      "Mode is  [6]\n"
     ]
    },
    {
     "data": {
      "text/plain": [
       "array([-0.11899161])"
      ]
     },
     "execution_count": 69,
     "metadata": {},
     "output_type": "execute_result"
    }
   ],
   "source": [
    "skeww([1,2,3,4,5,6,7,4,5,6,6,6,6])"
   ]
  },
  {
   "cell_type": "code",
   "execution_count": 14,
   "id": "2d472b8b",
   "metadata": {},
   "outputs": [],
   "source": []
  },
  {
   "cell_type": "code",
   "execution_count": 1,
   "id": "eca12a41",
   "metadata": {},
   "outputs": [],
   "source": [
    "#Create a code that takes in 2 arrays and tells if they are independent or not"
   ]
  },
  {
   "cell_type": "code",
   "execution_count": null,
   "id": "13be332c",
   "metadata": {},
   "outputs": [],
   "source": [
    "def indie(a,b):\n",
    "    "
   ]
  },
  {
   "cell_type": "code",
   "execution_count": 3,
   "id": "07366c9d",
   "metadata": {},
   "outputs": [],
   "source": [
    "a = [12,13,14,15,12,13,14,12,22,14,30]\n",
    "b = [20,21,22,23,12,13,14,34,12,10,9]\n"
   ]
  },
  {
   "cell_type": "code",
   "execution_count": 4,
   "id": "66862e05",
   "metadata": {},
   "outputs": [],
   "source": [
    "meana = np.mean(a)\n",
    "meanb = np.mean(b)"
   ]
  },
  {
   "cell_type": "code",
   "execution_count": 48,
   "id": "5e5605e8",
   "metadata": {},
   "outputs": [
    {
     "name": "stdout",
     "output_type": "stream",
     "text": [
      "28.066363636363636\n"
     ]
    }
   ],
   "source": [
    "sumvara = 0\n",
    "for i in a:\n",
    "    sumvara+=round((i-meana)**2,2)\n",
    "print(sumvara/len(a))\n",
    "    "
   ]
  },
  {
   "cell_type": "code",
   "execution_count": 49,
   "id": "f22c7655",
   "metadata": {},
   "outputs": [
    {
     "name": "stdout",
     "output_type": "stream",
     "text": [
      "51.107272727272736\n"
     ]
    }
   ],
   "source": [
    "sumvarb = 0\n",
    "for j in b:\n",
    "    sumvarb+=round((j-meanb)**2,2)\n",
    "print(sumvarb/len(b))"
   ]
  },
  {
   "cell_type": "code",
   "execution_count": 50,
   "id": "219d3162",
   "metadata": {},
   "outputs": [
    {
     "name": "stdout",
     "output_type": "stream",
     "text": [
      "-143.19421487603307\n"
     ]
    }
   ],
   "source": [
    "covar = 0\n",
    "for i in range(len(a)):\n",
    "    covar+=a[i]*b[i]\n",
    "covariance = covar/(len(a)+len(b))-meana*meanb\n",
    "print(covariance)"
   ]
  },
  {
   "cell_type": "code",
   "execution_count": 9,
   "id": "2acd68f9",
   "metadata": {},
   "outputs": [
    {
     "name": "stderr",
     "output_type": "stream",
     "text": [
      "C:\\Users\\michesimon\\Anaconda3\\lib\\site-packages\\seaborn\\_decorators.py:36: FutureWarning: Pass the following variables as keyword args: x, y. From version 0.12, the only valid positional argument will be `data`, and passing other arguments without an explicit keyword will result in an error or misinterpretation.\n",
      "  warnings.warn(\n"
     ]
    },
    {
     "data": {
      "image/png": "[encoded data removed]",
      "text/plain": [
       "<Figure size 432x288 with 1 Axes>"
      ]
     },
     "metadata": {
      "needs_background": "light"
     },
     "output_type": "display_data"
    }
   ],
   "source": [
    "import numpy as np\n",
    "import seaborn as sns\n",
    "import matplotlib.pyplot as plt\n",
    "x=np.random.randint(1,10,20)\n",
    "y=x+np.random.normal(0,1,20)\n",
    "\n",
    "x,y\n",
    "ax=sns.regplot(x,y,ci=95)\n"
   ]
  },
  {
   "cell_type": "code",
   "execution_count": 10,
   "id": "b6e88d80",
   "metadata": {},
   "outputs": [],
   "source": [
    "# Skewness"
   ]
  },
  {
   "cell_type": "code",
   "execution_count": 52,
   "id": "d23a6874",
   "metadata": {},
   "outputs": [],
   "source": [
    "def stdev(a):\n",
    "    sumvara = 0\n",
    "    for i in a:\n",
    "        sumvara+=round((i-meana)**2,2)\n",
    "    return sqrt(sumvara/len(a))"
   ]
  },
  {
   "cell_type": "code",
   "execution_count": 53,
   "id": "10d2b6e6",
   "metadata": {},
   "outputs": [
    {
     "data": {
      "text/plain": [
       "11.387361415183063"
      ]
     },
     "execution_count": 53,
     "metadata": {},
     "output_type": "execute_result"
    }
   ],
   "source": [
    "stdev([1,2,3,4,5,6,7,4,5,6])"
   ]
  },
  {
   "cell_type": "code",
   "execution_count": 51,
   "id": "09b61d6b",
   "metadata": {},
   "outputs": [],
   "source": []
  },
  {
   "cell_type": "code",
   "execution_count": null,
   "id": "8c8a8925",
   "metadata": {},
   "outputs": [],
   "source": []
  }
 ],
 "metadata": {
  "kernelspec": {
   "display_name": "Python 3 (ipykernel)",
   "language": "python",
   "name": "python3"
  },
  "language_info": {
   "codemirror_mode": {
    "name": "ipython",
    "version": 3
   },
   "file_extension": ".py",
   "mimetype": "text/x-python",
   "name": "python",
   "nbconvert_exporter": "python",
   "pygments_lexer": "ipython3",
   "version": "3.9.12"
  }
 },
 "nbformat": 4,
 "nbformat_minor": 5
}
